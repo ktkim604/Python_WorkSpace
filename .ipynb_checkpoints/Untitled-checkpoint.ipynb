{
 "cells": [
  {
   "cell_type": "code",
   "execution_count": 1,
   "id": "54317c0e",
   "metadata": {},
   "outputs": [],
   "source": [
    "num_list = [5,4,3,2,1]"
   ]
  },
  {
   "cell_type": "code",
   "execution_count": 2,
   "id": "99de3439",
   "metadata": {},
   "outputs": [],
   "source": [
    "num_list.sort()"
   ]
  },
  {
   "cell_type": "code",
   "execution_count": 3,
   "id": "e7d0ff5d",
   "metadata": {},
   "outputs": [
    {
     "name": "stdout",
     "output_type": "stream",
     "text": [
      "[1, 2, 3, 4, 5]\n"
     ]
    }
   ],
   "source": [
    "print(num_list)"
   ]
  },
  {
   "cell_type": "code",
   "execution_count": 4,
   "id": "0cb4883a",
   "metadata": {},
   "outputs": [
    {
     "name": "stdout",
     "output_type": "stream",
     "text": [
      "[5, 4, 3, 2, 1]\n"
     ]
    }
   ],
   "source": [
    "#순서 뒤집기\n",
    "num_list.reverse()\n",
    "print(num_list)"
   ]
  },
  {
   "cell_type": "code",
   "execution_count": 5,
   "id": "d8233c71",
   "metadata": {},
   "outputs": [],
   "source": [
    "num_list.clear()"
   ]
  },
  {
   "cell_type": "code",
   "execution_count": 6,
   "id": "fd6ac392",
   "metadata": {},
   "outputs": [
    {
     "name": "stdout",
     "output_type": "stream",
     "text": [
      "[]\n"
     ]
    }
   ],
   "source": [
    "print(num_list)"
   ]
  },
  {
   "cell_type": "code",
   "execution_count": 7,
   "id": "0049293f",
   "metadata": {},
   "outputs": [],
   "source": [
    "# 다양한 자료형 함께 사용 가능\n",
    "num_list = [5,4,3,2,1]\n",
    "mix_list = [\"조세호\", 20, True]"
   ]
  },
  {
   "cell_type": "code",
   "execution_count": 8,
   "id": "01e88f38",
   "metadata": {},
   "outputs": [
    {
     "name": "stdout",
     "output_type": "stream",
     "text": [
      "[5, 4, 3, 2, 1, '조세호', 20, True]\n"
     ]
    }
   ],
   "source": [
    "# 리스트 확장\n",
    "num_list.extend(mix_list)\n",
    "print(num_list)"
   ]
  },
  {
   "cell_type": "code",
   "execution_count": 9,
   "id": "fdc0b028",
   "metadata": {},
   "outputs": [
    {
     "name": "stdout",
     "output_type": "stream",
     "text": [
      "[True, 20, '조세호', 1, 2, 3, 4, 5]\n"
     ]
    }
   ],
   "source": [
    "num_list.reverse()\n",
    "print(num_list)"
   ]
  },
  {
   "cell_type": "code",
   "execution_count": 10,
   "id": "21a1f7cb",
   "metadata": {},
   "outputs": [
    {
     "name": "stdout",
     "output_type": "stream",
     "text": [
      "[5, 4, 3, 2, 1, '조세호', 20, True]\n"
     ]
    }
   ],
   "source": [
    "num_list.reverse()\n",
    "print(num_list)"
   ]
  },
  {
   "cell_type": "code",
   "execution_count": 11,
   "id": "dab94046",
   "metadata": {},
   "outputs": [
    {
     "name": "stdout",
     "output_type": "stream",
     "text": [
      "['조세호', 20, True, 5, 4, 3, 2, 1, '조세호', 20, True]\n"
     ]
    }
   ],
   "source": [
    "mix_list.extend(num_list)\n",
    "print(mix_list)"
   ]
  },
  {
   "cell_type": "code",
   "execution_count": 12,
   "id": "580868e7",
   "metadata": {},
   "outputs": [],
   "source": [
    "# 튜플 : 내용변경과 추가 불가능 하지만, 속도가 리스트보다 빠름"
   ]
  },
  {
   "cell_type": "code",
   "execution_count": 13,
   "id": "d18e9054",
   "metadata": {},
   "outputs": [
    {
     "name": "stdout",
     "output_type": "stream",
     "text": [
      "돈까스\n",
      "치즈까스\n"
     ]
    }
   ],
   "source": [
    "menu = (\"돈까스\", \"치즈까스\")\n",
    "print(menu[0])\n",
    "print(menu[1])"
   ]
  },
  {
   "cell_type": "code",
   "execution_count": 14,
   "id": "aee8c0b3",
   "metadata": {},
   "outputs": [],
   "source": [
    "#집합 (set)"
   ]
  },
  {
   "cell_type": "code",
   "execution_count": 15,
   "id": "bfff8395",
   "metadata": {},
   "outputs": [
    {
     "name": "stdout",
     "output_type": "stream",
     "text": [
      "{1, 2, 3}\n"
     ]
    }
   ],
   "source": [
    "my_set = {1,2,3,3,3}\n",
    "print(my_set)"
   ]
  },
  {
   "cell_type": "code",
   "execution_count": 16,
   "id": "cd50930b",
   "metadata": {},
   "outputs": [
    {
     "name": "stdout",
     "output_type": "stream",
     "text": [
      "{'커피', '주스', '우유'} <class 'set'>\n"
     ]
    }
   ],
   "source": [
    "#자료구조의 변경\n",
    "menu = {\"커피\", \"우유\", \"주스\"}\n",
    "print(menu, type(menu))"
   ]
  },
  {
   "cell_type": "code",
   "execution_count": 17,
   "id": "a980c786",
   "metadata": {},
   "outputs": [
    {
     "name": "stdout",
     "output_type": "stream",
     "text": [
      "['커피', '주스', '우유'] <class 'list'>\n"
     ]
    }
   ],
   "source": [
    "menu = list(menu)\n",
    "print(menu, type(menu))"
   ]
  },
  {
   "cell_type": "code",
   "execution_count": 18,
   "id": "6e50deb2",
   "metadata": {},
   "outputs": [
    {
     "name": "stdout",
     "output_type": "stream",
     "text": [
      "('커피', '주스', '우유') <class 'tuple'>\n"
     ]
    }
   ],
   "source": [
    "menu = tuple(menu)\n",
    "print(menu, type(menu))"
   ]
  },
  {
   "cell_type": "code",
   "execution_count": 19,
   "id": "f836608c",
   "metadata": {},
   "outputs": [],
   "source": [
    "from random import*\n",
    "users = range(1,21) #1부터 20까지 숫자를 생성\n",
    "users = list(users)"
   ]
  },
  {
   "cell_type": "code",
   "execution_count": 20,
   "id": "99fcc684",
   "metadata": {},
   "outputs": [
    {
     "name": "stdout",
     "output_type": "stream",
     "text": [
      "[1, 2, 3, 4, 5, 6, 7, 8, 9, 10, 11, 12, 13, 14, 15, 16, 17, 18, 19, 20]\n"
     ]
    }
   ],
   "source": [
    "print(users)"
   ]
  },
  {
   "cell_type": "code",
   "execution_count": 21,
   "id": "d9be6ee8",
   "metadata": {},
   "outputs": [],
   "source": [
    "shuffle(users)"
   ]
  },
  {
   "cell_type": "code",
   "execution_count": 22,
   "id": "208f9c36",
   "metadata": {},
   "outputs": [
    {
     "name": "stdout",
     "output_type": "stream",
     "text": [
      "[4, 18, 7, 9, 11, 14, 16, 2, 15, 5, 8, 19, 1, 12, 10, 20, 3, 17, 13, 6]\n"
     ]
    }
   ],
   "source": [
    "print(users)"
   ]
  },
  {
   "cell_type": "code",
   "execution_count": 23,
   "id": "82c0de0f",
   "metadata": {},
   "outputs": [],
   "source": [
    "winners = sample(users, 4)"
   ]
  },
  {
   "cell_type": "code",
   "execution_count": 24,
   "id": "f07d4f26",
   "metadata": {},
   "outputs": [
    {
     "name": "stdout",
     "output_type": "stream",
     "text": [
      "--당첨자 발표--\n",
      "치킨 당첨자 :7\n",
      "커피 당첨자 :[1, 12, 4]\n"
     ]
    }
   ],
   "source": [
    "print(\"--당첨자 발표--\")\n",
    "print(\"치킨 당첨자 :{0}\".format(winners[0]))\n",
    "print(\"커피 당첨자 :{0}\".format(winners[1:]))\n"
   ]
  },
  {
   "cell_type": "code",
   "execution_count": null,
   "id": "0e72dcb8",
   "metadata": {},
   "outputs": [],
   "source": []
  }
 ],
 "metadata": {
  "kernelspec": {
   "display_name": "Python 3 (ipykernel)",
   "language": "python",
   "name": "python3"
  },
  "language_info": {
   "codemirror_mode": {
    "name": "ipython",
    "version": 3
   },
   "file_extension": ".py",
   "mimetype": "text/x-python",
   "name": "python",
   "nbconvert_exporter": "python",
   "pygments_lexer": "ipython3",
   "version": "3.7.11"
  }
 },
 "nbformat": 4,
 "nbformat_minor": 5
}
